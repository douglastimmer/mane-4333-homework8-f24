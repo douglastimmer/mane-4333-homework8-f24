{
 "cells": [
  {
   "cell_type": "markdown",
   "id": "6e9715c1-e802-4e25-836e-3790b69e9a9f",
   "metadata": {},
   "source": [
    "# MANE 4333\n",
    "## Homework 8\n",
    "## Your Name"
   ]
  },
  {
   "cell_type": "code",
   "execution_count": 4,
   "id": "5b0d11c6-003c-4827-9954-b0a71d79945d",
   "metadata": {},
   "outputs": [
    {
     "data": {
      "text/plain": [
       "\"\\nUse the RandomizedSearchCV algorithm with the MLPClassifier \\nto develop a model to classify the state of a person's spine. \\nDisplay the parameters of the best MLPClassifier model, \\nthe accuracy of the best model for the training and test sets, \\nand the confusion matrices for the training and testing data sets.\\n\""
      ]
     },
     "execution_count": 4,
     "metadata": {},
     "output_type": "execute_result"
    }
   ],
   "source": [
    "# Problem 1\n",
    "'''\n",
    "Use the RandomizedSearchCV algorithm with the MLPClassifier \n",
    "to develop a model to classify the state of a person's spine. \n",
    "Display the parameters of the best MLPClassifier model, \n",
    "the accuracy of the best model for the training and test sets, \n",
    "and the confusion matrices for the training and testing data sets.\n",
    "'''"
   ]
  },
  {
   "cell_type": "code",
   "execution_count": 5,
   "id": "3498a094-1928-45fb-a4b7-0b63274500a1",
   "metadata": {},
   "outputs": [
    {
     "data": {
      "text/plain": [
       "'\\nFit a SVM Linear Classifier model to the data. \\nDisplay the accuracy of the model for the training and \\ntest sets, and the confuion matrices for the training and \\ntesting data sets.\\n'"
      ]
     },
     "execution_count": 5,
     "metadata": {},
     "output_type": "execute_result"
    }
   ],
   "source": [
    "# Problem 2\n",
    "'''\n",
    "Fit a SVM Linear Classifier model to the data. \n",
    "Display the accuracy of the model for the training and \n",
    "test sets, and the confuion matrices for the training and \n",
    "testing data sets.\n",
    "'''\n"
   ]
  },
  {
   "cell_type": "code",
   "execution_count": 6,
   "id": "991fc545-28bd-4ad4-809a-517d3e877598",
   "metadata": {},
   "outputs": [
    {
     "data": {
      "text/plain": [
       "'\\nUse the GridSearchCV algorithm to find the best \\nSVM Classifier with a RBF kernel. Display the parameters \\nof the best MLPClassifier model, the accuracy of the \\nbest model for the training and test sets, and the \\nconfusion matrices for the training and testing data sets.\\n'"
      ]
     },
     "execution_count": 6,
     "metadata": {},
     "output_type": "execute_result"
    }
   ],
   "source": [
    "# Problem 3\n",
    "'''\n",
    "Use the GridSearchCV algorithm to find the best \n",
    "SVM Classifier with a RBF kernel. Display the parameters \n",
    "of the best MLPClassifier model, the accuracy of the \n",
    "best model for the training and test sets, and the \n",
    "confusion matrices for the training and testing data sets.\n",
    "'''"
   ]
  },
  {
   "cell_type": "markdown",
   "id": "c8bb9c35-788e-43e7-b16f-7ddc899270f9",
   "metadata": {},
   "source": [
    "## Problem 4\n",
    "\n",
    ">State which model from Problems 1-3 provides the bet fit to the data and support your conclusion with facts from the three problems.\n",
    "\n"
   ]
  }
 ],
 "metadata": {
  "kernelspec": {
   "display_name": "Python 3 (ipykernel)",
   "language": "python",
   "name": "python3"
  },
  "language_info": {
   "codemirror_mode": {
    "name": "ipython",
    "version": 3
   },
   "file_extension": ".py",
   "mimetype": "text/x-python",
   "name": "python",
   "nbconvert_exporter": "python",
   "pygments_lexer": "ipython3",
   "version": "3.12.4"
  }
 },
 "nbformat": 4,
 "nbformat_minor": 5
}
